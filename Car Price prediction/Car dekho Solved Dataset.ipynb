{
 "cells": [
  {
   "cell_type": "markdown",
   "metadata": {},
   "source": [
    "## Project Cardekho"
   ]
  },
  {
   "cell_type": "markdown",
   "metadata": {},
   "source": [
    "#### Importing essential library"
   ]
  },
  {
   "cell_type": "code",
   "execution_count": 1,
   "metadata": {},
   "outputs": [
    {
     "name": "stderr",
     "output_type": "stream",
     "text": [
      "C:\\Users\\Nidhi\\Anaconda3\\lib\\site-packages\\statsmodels\\tools\\_testing.py:19: FutureWarning: pandas.util.testing is deprecated. Use the functions in the public API at pandas.testing instead.\n",
      "  import pandas.util.testing as tm\n"
     ]
    }
   ],
   "source": [
    "import numpy as np\n",
    "import pandas as pd\n",
    "import seaborn as sns\n",
    "import matplotlib.pyplot as plt\n",
    "%matplotlib inline"
   ]
  },
  {
   "cell_type": "markdown",
   "metadata": {},
   "source": [
    "### Data Wrangling"
   ]
  },
  {
   "cell_type": "code",
   "execution_count": 2,
   "metadata": {},
   "outputs": [],
   "source": [
    "df=pd.read_csv('cardekho.csv')"
   ]
  },
  {
   "cell_type": "code",
   "execution_count": 3,
   "metadata": {},
   "outputs": [
    {
     "data": {
      "text/plain": [
       "Index(['Car_Name', 'Year', 'Selling_Price', 'Present_Price', 'Kms_Driven',\n",
       "       'Fuel_Type', 'Seller_Type', 'Transmission', 'Owner'],\n",
       "      dtype='object')"
      ]
     },
     "execution_count": 3,
     "metadata": {},
     "output_type": "execute_result"
    }
   ],
   "source": [
    "df.columns"
   ]
  },
  {
   "cell_type": "code",
   "execution_count": 4,
   "metadata": {},
   "outputs": [
    {
     "data": {
      "text/plain": [
       "(301, 9)"
      ]
     },
     "execution_count": 4,
     "metadata": {},
     "output_type": "execute_result"
    }
   ],
   "source": [
    "df.shape"
   ]
  },
  {
   "cell_type": "markdown",
   "metadata": {},
   "source": [
    "### Our task is to predict selling price"
   ]
  },
  {
   "cell_type": "markdown",
   "metadata": {},
   "source": [
    "#### Data Exploration"
   ]
  },
  {
   "cell_type": "code",
   "execution_count": 12,
   "metadata": {},
   "outputs": [
    {
     "data": {
      "text/html": [
       "<div>\n",
       "<style scoped>\n",
       "    .dataframe tbody tr th:only-of-type {\n",
       "        vertical-align: middle;\n",
       "    }\n",
       "\n",
       "    .dataframe tbody tr th {\n",
       "        vertical-align: top;\n",
       "    }\n",
       "\n",
       "    .dataframe thead th {\n",
       "        text-align: right;\n",
       "    }\n",
       "</style>\n",
       "<table border=\"1\" class=\"dataframe\">\n",
       "  <thead>\n",
       "    <tr style=\"text-align: right;\">\n",
       "      <th></th>\n",
       "      <th>Car_Name</th>\n",
       "      <th>Year</th>\n",
       "      <th>Selling_Price</th>\n",
       "      <th>Present_Price</th>\n",
       "      <th>Kms_Driven</th>\n",
       "      <th>Fuel_Type</th>\n",
       "      <th>Seller_Type</th>\n",
       "      <th>Transmission</th>\n",
       "      <th>Owner</th>\n",
       "    </tr>\n",
       "  </thead>\n",
       "  <tbody>\n",
       "    <tr>\n",
       "      <th>0</th>\n",
       "      <td>ritz</td>\n",
       "      <td>2014</td>\n",
       "      <td>3.35</td>\n",
       "      <td>5.59</td>\n",
       "      <td>27000</td>\n",
       "      <td>Petrol</td>\n",
       "      <td>Dealer</td>\n",
       "      <td>Manual</td>\n",
       "      <td>0</td>\n",
       "    </tr>\n",
       "    <tr>\n",
       "      <th>1</th>\n",
       "      <td>sx4</td>\n",
       "      <td>2013</td>\n",
       "      <td>4.75</td>\n",
       "      <td>9.54</td>\n",
       "      <td>43000</td>\n",
       "      <td>Diesel</td>\n",
       "      <td>Dealer</td>\n",
       "      <td>Manual</td>\n",
       "      <td>0</td>\n",
       "    </tr>\n",
       "    <tr>\n",
       "      <th>2</th>\n",
       "      <td>ciaz</td>\n",
       "      <td>2017</td>\n",
       "      <td>7.25</td>\n",
       "      <td>9.85</td>\n",
       "      <td>6900</td>\n",
       "      <td>Petrol</td>\n",
       "      <td>Dealer</td>\n",
       "      <td>Manual</td>\n",
       "      <td>0</td>\n",
       "    </tr>\n",
       "    <tr>\n",
       "      <th>3</th>\n",
       "      <td>wagon r</td>\n",
       "      <td>2011</td>\n",
       "      <td>2.85</td>\n",
       "      <td>4.15</td>\n",
       "      <td>5200</td>\n",
       "      <td>Petrol</td>\n",
       "      <td>Dealer</td>\n",
       "      <td>Manual</td>\n",
       "      <td>0</td>\n",
       "    </tr>\n",
       "    <tr>\n",
       "      <th>4</th>\n",
       "      <td>swift</td>\n",
       "      <td>2014</td>\n",
       "      <td>4.60</td>\n",
       "      <td>6.87</td>\n",
       "      <td>42450</td>\n",
       "      <td>Diesel</td>\n",
       "      <td>Dealer</td>\n",
       "      <td>Manual</td>\n",
       "      <td>0</td>\n",
       "    </tr>\n",
       "  </tbody>\n",
       "</table>\n",
       "</div>"
      ],
      "text/plain": [
       "  Car_Name  Year  Selling_Price  Present_Price  Kms_Driven Fuel_Type  \\\n",
       "0     ritz  2014           3.35           5.59       27000    Petrol   \n",
       "1      sx4  2013           4.75           9.54       43000    Diesel   \n",
       "2     ciaz  2017           7.25           9.85        6900    Petrol   \n",
       "3  wagon r  2011           2.85           4.15        5200    Petrol   \n",
       "4    swift  2014           4.60           6.87       42450    Diesel   \n",
       "\n",
       "  Seller_Type Transmission  Owner  \n",
       "0      Dealer       Manual      0  \n",
       "1      Dealer       Manual      0  \n",
       "2      Dealer       Manual      0  \n",
       "3      Dealer       Manual      0  \n",
       "4      Dealer       Manual      0  "
      ]
     },
     "execution_count": 12,
     "metadata": {},
     "output_type": "execute_result"
    }
   ],
   "source": [
    "df.head()"
   ]
  },
  {
   "cell_type": "markdown",
   "metadata": {},
   "source": [
    "#### Checking for Null Values"
   ]
  },
  {
   "cell_type": "code",
   "execution_count": 13,
   "metadata": {},
   "outputs": [
    {
     "data": {
      "text/plain": [
       "Car_Name         0\n",
       "Year             0\n",
       "Selling_Price    0\n",
       "Present_Price    0\n",
       "Kms_Driven       0\n",
       "Fuel_Type        0\n",
       "Seller_Type      0\n",
       "Transmission     0\n",
       "Owner            0\n",
       "dtype: int64"
      ]
     },
     "execution_count": 13,
     "metadata": {},
     "output_type": "execute_result"
    }
   ],
   "source": [
    "df.isnull().sum()"
   ]
  },
  {
   "cell_type": "code",
   "execution_count": 14,
   "metadata": {},
   "outputs": [
    {
     "data": {
      "text/plain": [
       "<matplotlib.axes._subplots.AxesSubplot at 0x25f707b40c8>"
      ]
     },
     "execution_count": 14,
     "metadata": {},
     "output_type": "execute_result"
    },
    {
     "data": {
      "image/png": "[encoded data removed]",
      "text/plain": [
       "<Figure size 432x288 with 2 Axes>"
      ]
     },
     "metadata": {
      "needs_background": "light"
     },
     "output_type": "display_data"
    }
   ],
   "source": [
    "sns.heatmap(df.isnull()) # Checking for Null values"
   ]
  },
  {
   "cell_type": "code",
   "execution_count": 15,
   "metadata": {},
   "outputs": [
    {
     "data": {
      "text/plain": [
       "Car_Name          object\n",
       "Year               int64\n",
       "Selling_Price    float64\n",
       "Present_Price    float64\n",
       "Kms_Driven         int64\n",
       "Fuel_Type         object\n",
       "Seller_Type       object\n",
       "Transmission      object\n",
       "Owner              int64\n",
       "dtype: object"
      ]
     },
     "execution_count": 15,
     "metadata": {},
     "output_type": "execute_result"
    }
   ],
   "source": [
    "df.dtypes   ### Datatypes "
   ]
  },
  {
   "cell_type": "markdown",
   "metadata": {},
   "source": [
    "## exploration for object type datatype"
   ]
  },
  {
   "cell_type": "code",
   "execution_count": 16,
   "metadata": {},
   "outputs": [
    {
     "name": "stdout",
     "output_type": "stream",
     "text": [
      "Fuel_Type\n",
      " Petrol    239\n",
      "Diesel     60\n",
      "CNG         2\n",
      "Name: Fuel_Type, dtype: int64\n",
      "Seller_Type\n",
      " Dealer        195\n",
      "Individual    106\n",
      "Name: Seller_Type, dtype: int64\n",
      "Transmission\n",
      " Manual       261\n",
      "Automatic     40\n",
      "Name: Transmission, dtype: int64\n"
     ]
    }
   ],
   "source": [
    "print('Fuel_Type\\n',df['Fuel_Type'].value_counts())\n",
    "print('Seller_Type\\n',df['Seller_Type'].value_counts())\n",
    "print('Transmission\\n',df['Transmission'].value_counts())"
   ]
  },
  {
   "cell_type": "code",
   "execution_count": 17,
   "metadata": {},
   "outputs": [
    {
     "data": {
      "text/plain": [
       "count    301.000000\n",
       "mean       4.661296\n",
       "std        5.082812\n",
       "min        0.100000\n",
       "25%        0.900000\n",
       "50%        3.600000\n",
       "75%        6.000000\n",
       "max       35.000000\n",
       "Name: Selling_Price, dtype: float64"
      ]
     },
     "execution_count": 17,
     "metadata": {},
     "output_type": "execute_result"
    }
   ],
   "source": [
    "df['Selling_Price'].describe()"
   ]
  },
  {
   "cell_type": "code",
   "execution_count": 18,
   "metadata": {},
   "outputs": [
    {
     "data": {
      "text/plain": [
       "<matplotlib.axes._subplots.AxesSubplot at 0x25f7087bac8>"
      ]
     },
     "execution_count": 18,
     "metadata": {},
     "output_type": "execute_result"
    },
    {
     "data": {
      "image/png": "[encoded data removed]",
      "text/plain": [
       "<Figure size 432x288 with 1 Axes>"
      ]
     },
     "metadata": {
      "needs_background": "light"
     },
     "output_type": "display_data"
    }
   ],
   "source": [
    "df['Selling_Price'].hist(bins=10)\n",
    "\n"
   ]
  },
  {
   "cell_type": "code",
   "execution_count": 19,
   "metadata": {},
   "outputs": [
    {
     "data": {
      "text/plain": [
       "<matplotlib.axes._subplots.AxesSubplot at 0x25f70920608>"
      ]
     },
     "execution_count": 19,
     "metadata": {},
     "output_type": "execute_result"
    },
    {
     "data": {
      "image/png": "[encoded data removed]",
      "text/plain": [
       "<Figure size 432x288 with 1 Axes>"
      ]
     },
     "metadata": {
      "needs_background": "light"
     },
     "output_type": "display_data"
    }
   ],
   "source": [
    "df['Present_Price'].hist(bins=10)"
   ]
  },
  {
   "cell_type": "code",
   "execution_count": 20,
   "metadata": {},
   "outputs": [
    {
     "data": {
      "text/plain": [
       "<matplotlib.axes._subplots.AxesSubplot at 0x25f709a4b88>"
      ]
     },
     "execution_count": 20,
     "metadata": {},
     "output_type": "execute_result"
    },
    {
     "data": {
      "image/png": "[encoded data removed]",
      "text/plain": [
       "<Figure size 432x288 with 1 Axes>"
      ]
     },
     "metadata": {
      "needs_background": "light"
     },
     "output_type": "display_data"
    }
   ],
   "source": [
    "df['Kms_Driven'].hist(bins=10)"
   ]
  },
  {
   "cell_type": "markdown",
   "metadata": {},
   "source": [
    "### Checking for How much old is the car   "
   ]
  },
  {
   "cell_type": "code",
   "execution_count": 21,
   "metadata": {},
   "outputs": [],
   "source": [
    "df['Old']=df['Year'].apply(lambda x:2020-x)"
   ]
  },
  {
   "cell_type": "markdown",
   "metadata": {},
   "source": [
    "## Droping Car_Name and Year column"
   ]
  },
  {
   "cell_type": "code",
   "execution_count": 22,
   "metadata": {},
   "outputs": [],
   "source": [
    "df.drop(columns=['Car_Name','Year'],axis=1,inplace=True)"
   ]
  },
  {
   "cell_type": "markdown",
   "metadata": {},
   "source": [
    "### One Hot Encoding"
   ]
  },
  {
   "cell_type": "code",
   "execution_count": 23,
   "metadata": {},
   "outputs": [],
   "source": [
    "df=pd.get_dummies(data=df,drop_first=True)  ##One Hot encoding "
   ]
  },
  {
   "cell_type": "code",
   "execution_count": 24,
   "metadata": {},
   "outputs": [
    {
     "data": {
      "text/html": [
       "<div>\n",
       "<style scoped>\n",
       "    .dataframe tbody tr th:only-of-type {\n",
       "        vertical-align: middle;\n",
       "    }\n",
       "\n",
       "    .dataframe tbody tr th {\n",
       "        vertical-align: top;\n",
       "    }\n",
       "\n",
       "    .dataframe thead th {\n",
       "        text-align: right;\n",
       "    }\n",
       "</style>\n",
       "<table border=\"1\" class=\"dataframe\">\n",
       "  <thead>\n",
       "    <tr style=\"text-align: right;\">\n",
       "      <th></th>\n",
       "      <th>Selling_Price</th>\n",
       "      <th>Present_Price</th>\n",
       "      <th>Kms_Driven</th>\n",
       "      <th>Owner</th>\n",
       "      <th>Old</th>\n",
       "      <th>Fuel_Type_Diesel</th>\n",
       "      <th>Fuel_Type_Petrol</th>\n",
       "      <th>Seller_Type_Individual</th>\n",
       "      <th>Transmission_Manual</th>\n",
       "    </tr>\n",
       "  </thead>\n",
       "  <tbody>\n",
       "    <tr>\n",
       "      <th>0</th>\n",
       "      <td>3.35</td>\n",
       "      <td>5.59</td>\n",
       "      <td>27000</td>\n",
       "      <td>0</td>\n",
       "      <td>6</td>\n",
       "      <td>0</td>\n",
       "      <td>1</td>\n",
       "      <td>0</td>\n",
       "      <td>1</td>\n",
       "    </tr>\n",
       "    <tr>\n",
       "      <th>1</th>\n",
       "      <td>4.75</td>\n",
       "      <td>9.54</td>\n",
       "      <td>43000</td>\n",
       "      <td>0</td>\n",
       "      <td>7</td>\n",
       "      <td>1</td>\n",
       "      <td>0</td>\n",
       "      <td>0</td>\n",
       "      <td>1</td>\n",
       "    </tr>\n",
       "    <tr>\n",
       "      <th>2</th>\n",
       "      <td>7.25</td>\n",
       "      <td>9.85</td>\n",
       "      <td>6900</td>\n",
       "      <td>0</td>\n",
       "      <td>3</td>\n",
       "      <td>0</td>\n",
       "      <td>1</td>\n",
       "      <td>0</td>\n",
       "      <td>1</td>\n",
       "    </tr>\n",
       "    <tr>\n",
       "      <th>3</th>\n",
       "      <td>2.85</td>\n",
       "      <td>4.15</td>\n",
       "      <td>5200</td>\n",
       "      <td>0</td>\n",
       "      <td>9</td>\n",
       "      <td>0</td>\n",
       "      <td>1</td>\n",
       "      <td>0</td>\n",
       "      <td>1</td>\n",
       "    </tr>\n",
       "    <tr>\n",
       "      <th>4</th>\n",
       "      <td>4.60</td>\n",
       "      <td>6.87</td>\n",
       "      <td>42450</td>\n",
       "      <td>0</td>\n",
       "      <td>6</td>\n",
       "      <td>1</td>\n",
       "      <td>0</td>\n",
       "      <td>0</td>\n",
       "      <td>1</td>\n",
       "    </tr>\n",
       "  </tbody>\n",
       "</table>\n",
       "</div>"
      ],
      "text/plain": [
       "   Selling_Price  Present_Price  Kms_Driven  Owner  Old  Fuel_Type_Diesel  \\\n",
       "0           3.35           5.59       27000      0    6                 0   \n",
       "1           4.75           9.54       43000      0    7                 1   \n",
       "2           7.25           9.85        6900      0    3                 0   \n",
       "3           2.85           4.15        5200      0    9                 0   \n",
       "4           4.60           6.87       42450      0    6                 1   \n",
       "\n",
       "   Fuel_Type_Petrol  Seller_Type_Individual  Transmission_Manual  \n",
       "0                 1                       0                    1  \n",
       "1                 0                       0                    1  \n",
       "2                 1                       0                    1  \n",
       "3                 1                       0                    1  \n",
       "4                 0                       0                    1  "
      ]
     },
     "execution_count": 24,
     "metadata": {},
     "output_type": "execute_result"
    }
   ],
   "source": [
    "df.head()"
   ]
  },
  {
   "cell_type": "code",
   "execution_count": 25,
   "metadata": {},
   "outputs": [
    {
     "data": {
      "text/plain": [
       "<matplotlib.axes._subplots.AxesSubplot at 0x25f709f8ac8>"
      ]
     },
     "execution_count": 25,
     "metadata": {},
     "output_type": "execute_result"
    },
    {
     "data": {
      "image/png": "[encoded data removed]",
      "text/plain": [
       "<Figure size 1080x360 with 2 Axes>"
      ]
     },
     "metadata": {
      "needs_background": "light"
     },
     "output_type": "display_data"
    }
   ],
   "source": [
    "## Checking for Correlation\n",
    "plt.figure(figsize=(15,5))\n",
    "corr=df.corr()\n",
    "sns.heatmap(corr,xticklabels=True,yticklabels=True,cmap='YlGnBu',annot=True)"
   ]
  },
  {
   "cell_type": "markdown",
   "metadata": {},
   "source": [
    "## Prepartion For Data Splitting"
   ]
  },
  {
   "cell_type": "code",
   "execution_count": 30,
   "metadata": {},
   "outputs": [],
   "source": [
    "X=df.drop('Selling_Price',axis=1)\n",
    "y=df['Selling_Price']\n",
    "## importing train test split and other features\n",
    "from sklearn.model_selection import ShuffleSplit,RandomizedSearchCV,train_test_split,GridSearchCV\n",
    "cv=ShuffleSplit(n_splits=10,test_size=0.2,train_size=0.8)## Used in randomizesearchCV and in GridsearchCV For Cross Validattion"
   ]
  },
  {
   "cell_type": "code",
   "execution_count": 31,
   "metadata": {},
   "outputs": [],
   "source": [
    "# Importing various model\n",
    "from sklearn.linear_model import LinearRegression\n",
    "from sklearn.ensemble import RandomForestRegressor\n",
    "from sklearn.tree import DecisionTreeRegressor"
   ]
  },
  {
   "cell_type": "markdown",
   "metadata": {},
   "source": [
    "## Model Selection with the help of RandomizeSearchCV"
   ]
  },
  {
   "cell_type": "code",
   "execution_count": 32,
   "metadata": {},
   "outputs": [],
   "source": [
    "model_parm={\n",
    "'linear_regression':{\n",
    "            'model':LinearRegression(),\n",
    "             'parm_grid':{                 \n",
    "                 'fit_intercept':[True,False],\n",
    "                'normalize':[True]\n",
    "             }\n",
    "      },\n",
    "'random_forest':{\n",
    "            'model':RandomForestRegressor(),\n",
    "             'parm_grid':{                 \n",
    "                \n",
    "                'n_estimators':[int(x) for x in np.linspace(100,1200,12)],\n",
    "                 'criterion':['mae','mse'],\n",
    "                 'max_depth':[int(x) for x in np.linspace(60,1200,10)],\n",
    "                 'max_features':['auto','sqrt','log2'],\n",
    "                 'max_leaf_nodes':[2,10,20],\n",
    "                 'min_samples_leaf':[1,2,5]\n",
    "                 \n",
    "             }\n",
    "      },\n",
    "'Decision_tree':{\n",
    "            'model':DecisionTreeRegressor(),\n",
    "             'parm_grid':{                 \n",
    "                \n",
    "                \n",
    "                 'criterion':['mae','mse'],\n",
    "                 'max_leaf_nodes':[2,10,20],\n",
    "                 \n",
    "             }\n",
    "      }\n",
    "}"
   ]
  },
  {
   "cell_type": "code",
   "execution_count": 34,
   "metadata": {},
   "outputs": [
    {
     "name": "stderr",
     "output_type": "stream",
     "text": [
      "C:\\Users\\Nidhi\\Anaconda3\\lib\\site-packages\\sklearn\\model_selection\\_search.py:266: UserWarning: The total space of parameters 2 is smaller than n_iter=4. Running 2 iterations. For exhaustive searches, use GridSearchCV.\n",
      "  % (grid_size, self.n_iter, grid_size), UserWarning)\n",
      "[Parallel(n_jobs=1)]: Using backend SequentialBackend with 1 concurrent workers.\n",
      "[Parallel(n_jobs=1)]: Done  20 out of  20 | elapsed:    0.0s finished\n",
      "[Parallel(n_jobs=1)]: Using backend SequentialBackend with 1 concurrent workers.\n"
     ]
    },
    {
     "name": "stdout",
     "output_type": "stream",
     "text": [
      "Fitting 10 folds for each of 2 candidates, totalling 20 fits\n",
      "Fitting 10 folds for each of 4 candidates, totalling 40 fits\n"
     ]
    },
    {
     "name": "stderr",
     "output_type": "stream",
     "text": [
      "[Parallel(n_jobs=1)]: Done  40 out of  40 | elapsed:   48.7s finished\n"
     ]
    },
    {
     "name": "stdout",
     "output_type": "stream",
     "text": [
      "Fitting 10 folds for each of 4 candidates, totalling 40 fits\n"
     ]
    },
    {
     "name": "stderr",
     "output_type": "stream",
     "text": [
      "[Parallel(n_jobs=1)]: Using backend SequentialBackend with 1 concurrent workers.\n",
      "[Parallel(n_jobs=1)]: Done  40 out of  40 | elapsed:    0.2s finished\n"
     ]
    }
   ],
   "source": [
    "score=[]\n",
    "for model_name,mp in model_parm.items():\n",
    "    clf=RandomizedSearchCV(mp['model'],mp['parm_grid'],cv=cv,n_iter=4,verbose=1,return_train_score=False,scoring='neg_mean_squared_error')\n",
    "    clf.fit(X,y)\n",
    "    score.append({\n",
    "        'model':model_name,\n",
    "        'best_score':clf.best_score_,\n",
    "        'best_parms':clf.best_params_,\n",
    "        \n",
    "        \n",
    "     })"
   ]
  },
  {
   "cell_type": "code",
   "execution_count": 35,
   "metadata": {},
   "outputs": [
    {
     "data": {
      "text/html": [
       "<div>\n",
       "<style scoped>\n",
       "    .dataframe tbody tr th:only-of-type {\n",
       "        vertical-align: middle;\n",
       "    }\n",
       "\n",
       "    .dataframe tbody tr th {\n",
       "        vertical-align: top;\n",
       "    }\n",
       "\n",
       "    .dataframe thead th {\n",
       "        text-align: right;\n",
       "    }\n",
       "</style>\n",
       "<table border=\"1\" class=\"dataframe\">\n",
       "  <thead>\n",
       "    <tr style=\"text-align: right;\">\n",
       "      <th></th>\n",
       "      <th>model</th>\n",
       "      <th>best_score</th>\n",
       "      <th>best_parms</th>\n",
       "    </tr>\n",
       "  </thead>\n",
       "  <tbody>\n",
       "    <tr>\n",
       "      <th>0</th>\n",
       "      <td>linear_regression</td>\n",
       "      <td>-4.951894</td>\n",
       "      <td>{'normalize': True, 'fit_intercept': True}</td>\n",
       "    </tr>\n",
       "    <tr>\n",
       "      <th>1</th>\n",
       "      <td>random_forest</td>\n",
       "      <td>-4.615809</td>\n",
       "      <td>{'n_estimators': 1000, 'min_samples_leaf': 1, ...</td>\n",
       "    </tr>\n",
       "    <tr>\n",
       "      <th>2</th>\n",
       "      <td>Decision_tree</td>\n",
       "      <td>-2.527671</td>\n",
       "      <td>{'max_leaf_nodes': 20, 'criterion': 'mae'}</td>\n",
       "    </tr>\n",
       "  </tbody>\n",
       "</table>\n",
       "</div>"
      ],
      "text/plain": [
       "               model  best_score  \\\n",
       "0  linear_regression   -4.951894   \n",
       "1      random_forest   -4.615809   \n",
       "2      Decision_tree   -2.527671   \n",
       "\n",
       "                                          best_parms  \n",
       "0         {'normalize': True, 'fit_intercept': True}  \n",
       "1  {'n_estimators': 1000, 'min_samples_leaf': 1, ...  \n",
       "2         {'max_leaf_nodes': 20, 'criterion': 'mae'}  "
      ]
     },
     "execution_count": 35,
     "metadata": {},
     "output_type": "execute_result"
    }
   ],
   "source": [
    "res=pd.DataFrame(score)\n",
    "res"
   ]
  },
  {
   "cell_type": "code",
   "execution_count": 203,
   "metadata": {},
   "outputs": [
    {
     "data": {
      "text/plain": [
       "[{'normalize': True, 'fit_intercept': True},\n",
       " {'n_estimators': 1200,\n",
       "  'min_samples_leaf': 1,\n",
       "  'max_leaf_nodes': 20,\n",
       "  'max_features': 'auto',\n",
       "  'max_depth': 946,\n",
       "  'criterion': 'mae'},\n",
       " {'max_leaf_nodes': 20, 'criterion': 'mse'}]"
      ]
     },
     "execution_count": 203,
     "metadata": {},
     "output_type": "execute_result"
    }
   ],
   "source": [
    "x=res['best_parms']\n",
    "list(x)"
   ]
  },
  {
   "cell_type": "code",
   "execution_count": null,
   "metadata": {},
   "outputs": [],
   "source": [
    "### Selecting Decision Tree Regressor from above"
   ]
  },
  {
   "cell_type": "code",
   "execution_count": 218,
   "metadata": {},
   "outputs": [],
   "source": [
    "# Model Splitting\n",
    "X_train, X_test, y_train, y_test = train_test_split(X, y, test_size=0.2)"
   ]
  },
  {
   "cell_type": "markdown",
   "metadata": {},
   "source": [
    "#### Go for More parametres For Best model(model Exploration)"
   ]
  },
  {
   "cell_type": "code",
   "execution_count": 219,
   "metadata": {},
   "outputs": [
    {
     "name": "stdout",
     "output_type": "stream",
     "text": [
      "Fitting 5 folds for each of 10 candidates, totalling 50 fits\n",
      "[CV] splitter=best, max_leaf_nodes=36, max_features=log2, max_depth=1066, criterion=friedman_mse \n",
      "[CV]  splitter=best, max_leaf_nodes=36, max_features=log2, max_depth=1066, criterion=friedman_mse, total=   0.0s\n",
      "[CV] splitter=best, max_leaf_nodes=36, max_features=log2, max_depth=1066, criterion=friedman_mse \n",
      "[CV]  splitter=best, max_leaf_nodes=36, max_features=log2, max_depth=1066, criterion=friedman_mse, total=   0.0s\n",
      "[CV] splitter=best, max_leaf_nodes=36, max_features=log2, max_depth=1066, criterion=friedman_mse \n",
      "[CV]  splitter=best, max_leaf_nodes=36, max_features=log2, max_depth=1066, criterion=friedman_mse, total=   0.0s\n",
      "[CV] splitter=best, max_leaf_nodes=36, max_features=log2, max_depth=1066, criterion=friedman_mse \n",
      "[CV]  splitter=best, max_leaf_nodes=36, max_features=log2, max_depth=1066, criterion=friedman_mse, total=   0.0s\n",
      "[CV] splitter=best, max_leaf_nodes=36, max_features=log2, max_depth=1066, criterion=friedman_mse \n",
      "[CV]  splitter=best, max_leaf_nodes=36, max_features=log2, max_depth=1066, criterion=friedman_mse, total=   0.0s\n",
      "[CV] splitter=random, max_leaf_nodes=100, max_features=auto, max_depth=534, criterion=mae \n",
      "[CV]  splitter=random, max_leaf_nodes=100, max_features=auto, max_depth=534, criterion=mae, total=   0.0s\n",
      "[CV] splitter=random, max_leaf_nodes=100, max_features=auto, max_depth=534, criterion=mae \n",
      "[CV]  splitter=random, max_leaf_nodes=100, max_features=auto, max_depth=534, criterion=mae, total=   0.0s\n",
      "[CV] splitter=random, max_leaf_nodes=100, max_features=auto, max_depth=534, criterion=mae \n",
      "[CV]  splitter=random, max_leaf_nodes=100, max_features=auto, max_depth=534, criterion=mae, total=   0.0s\n",
      "[CV] splitter=random, max_leaf_nodes=100, max_features=auto, max_depth=534, criterion=mae \n",
      "[CV]  splitter=random, max_leaf_nodes=100, max_features=auto, max_depth=534, criterion=mae, total=   0.0s\n",
      "[CV] splitter=random, max_leaf_nodes=100, max_features=auto, max_depth=534, criterion=mae \n",
      "[CV]  splitter=random, max_leaf_nodes=100, max_features=auto, max_depth=534, criterion=mae, total=   0.0s\n",
      "[CV] splitter=best, max_leaf_nodes=5, max_features=sqrt, max_depth=534, criterion=friedman_mse \n",
      "[CV]  splitter=best, max_leaf_nodes=5, max_features=sqrt, max_depth=534, criterion=friedman_mse, total=   0.0s\n",
      "[CV] splitter=best, max_leaf_nodes=5, max_features=sqrt, max_depth=534, criterion=friedman_mse \n",
      "[CV]  splitter=best, max_leaf_nodes=5, max_features=sqrt, max_depth=534, criterion=friedman_mse, total=   0.0s\n",
      "[CV] splitter=best, max_leaf_nodes=5, max_features=sqrt, max_depth=534, criterion=friedman_mse \n",
      "[CV]  splitter=best, max_leaf_nodes=5, max_features=sqrt, max_depth=534, criterion=friedman_mse, total=   0.0s\n",
      "[CV] splitter=best, max_leaf_nodes=5, max_features=sqrt, max_depth=534, criterion=friedman_mse \n",
      "[CV]  splitter=best, max_leaf_nodes=5, max_features=sqrt, max_depth=534, criterion=friedman_mse, total=   0.0s\n",
      "[CV] splitter=best, max_leaf_nodes=5, max_features=sqrt, max_depth=534, criterion=friedman_mse \n",
      "[CV]  splitter=best, max_leaf_nodes=5, max_features=sqrt, max_depth=534, criterion=friedman_mse, total=   0.0s\n",
      "[CV] splitter=best, max_leaf_nodes=78, max_features=sqrt, max_depth=135, criterion=mae \n",
      "[CV]  splitter=best, max_leaf_nodes=78, max_features=sqrt, max_depth=135, criterion=mae, total=   0.0s\n",
      "[CV] splitter=best, max_leaf_nodes=78, max_features=sqrt, max_depth=135, criterion=mae \n",
      "[CV]  splitter=best, max_leaf_nodes=78, max_features=sqrt, max_depth=135, criterion=mae, total=   0.0s\n",
      "[CV] splitter=best, max_leaf_nodes=78, max_features=sqrt, max_depth=135, criterion=mae \n",
      "[CV]  splitter=best, max_leaf_nodes=78, max_features=sqrt, max_depth=135, criterion=mae, total=   0.0s\n",
      "[CV] splitter=best, max_leaf_nodes=78, max_features=sqrt, max_depth=135, criterion=mae \n",
      "[CV]  splitter=best, max_leaf_nodes=78, max_features=sqrt, max_depth=135, criterion=mae, total=   0.0s\n",
      "[CV] splitter=best, max_leaf_nodes=78, max_features=sqrt, max_depth=135, criterion=mae \n",
      "[CV]  splitter=best, max_leaf_nodes=78, max_features=sqrt, max_depth=135, criterion=mae, total=   0.0s\n",
      "[CV] splitter=best, max_leaf_nodes=57, max_features=log2, max_depth=1066, criterion=friedman_mse \n",
      "[CV]  splitter=best, max_leaf_nodes=57, max_features=log2, max_depth=1066, criterion=friedman_mse, total=   0.0s\n",
      "[CV] splitter=best, max_leaf_nodes=57, max_features=log2, max_depth=1066, criterion=friedman_mse \n",
      "[CV]  splitter=best, max_leaf_nodes=57, max_features=log2, max_depth=1066, criterion=friedman_mse, total=   0.0s\n",
      "[CV] splitter=best, max_leaf_nodes=57, max_features=log2, max_depth=1066, criterion=friedman_mse \n",
      "[CV]  splitter=best, max_leaf_nodes=57, max_features=log2, max_depth=1066, criterion=friedman_mse, total=   0.0s\n",
      "[CV] splitter=best, max_leaf_nodes=57, max_features=log2, max_depth=1066, criterion=friedman_mse \n",
      "[CV]  splitter=best, max_leaf_nodes=57, max_features=log2, max_depth=1066, criterion=friedman_mse, total=   0.0s\n",
      "[CV] splitter=best, max_leaf_nodes=57, max_features=log2, max_depth=1066, criterion=friedman_mse \n",
      "[CV]  splitter=best, max_leaf_nodes=57, max_features=log2, max_depth=1066, criterion=friedman_mse, total=   0.0s\n",
      "[CV] splitter=random, max_leaf_nodes=78, max_features=auto, max_depth=1066, criterion=friedman_mse \n",
      "[CV]  splitter=random, max_leaf_nodes=78, max_features=auto, max_depth=1066, criterion=friedman_mse, total=   0.0s\n",
      "[CV] splitter=random, max_leaf_nodes=78, max_features=auto, max_depth=1066, criterion=friedman_mse \n"
     ]
    },
    {
     "name": "stderr",
     "output_type": "stream",
     "text": [
      "[Parallel(n_jobs=1)]: Using backend SequentialBackend with 1 concurrent workers.\n",
      "[Parallel(n_jobs=1)]: Done   1 out of   1 | elapsed:    0.0s remaining:    0.0s\n"
     ]
    },
    {
     "name": "stdout",
     "output_type": "stream",
     "text": [
      "[CV]  splitter=random, max_leaf_nodes=78, max_features=auto, max_depth=1066, criterion=friedman_mse, total=   0.0s\n",
      "[CV] splitter=random, max_leaf_nodes=78, max_features=auto, max_depth=1066, criterion=friedman_mse \n",
      "[CV]  splitter=random, max_leaf_nodes=78, max_features=auto, max_depth=1066, criterion=friedman_mse, total=   0.0s\n",
      "[CV] splitter=random, max_leaf_nodes=78, max_features=auto, max_depth=1066, criterion=friedman_mse \n",
      "[CV]  splitter=random, max_leaf_nodes=78, max_features=auto, max_depth=1066, criterion=friedman_mse, total=   0.0s\n",
      "[CV] splitter=random, max_leaf_nodes=78, max_features=auto, max_depth=1066, criterion=friedman_mse \n",
      "[CV]  splitter=random, max_leaf_nodes=78, max_features=auto, max_depth=1066, criterion=friedman_mse, total=   0.0s\n",
      "[CV] splitter=best, max_leaf_nodes=26, max_features=log2, max_depth=1066, criterion=mae \n",
      "[CV]  splitter=best, max_leaf_nodes=26, max_features=log2, max_depth=1066, criterion=mae, total=   0.0s\n",
      "[CV] splitter=best, max_leaf_nodes=26, max_features=log2, max_depth=1066, criterion=mae \n",
      "[CV]  splitter=best, max_leaf_nodes=26, max_features=log2, max_depth=1066, criterion=mae, total=   0.0s\n",
      "[CV] splitter=best, max_leaf_nodes=26, max_features=log2, max_depth=1066, criterion=mae \n",
      "[CV]  splitter=best, max_leaf_nodes=26, max_features=log2, max_depth=1066, criterion=mae, total=   0.0s\n",
      "[CV] splitter=best, max_leaf_nodes=26, max_features=log2, max_depth=1066, criterion=mae \n",
      "[CV]  splitter=best, max_leaf_nodes=26, max_features=log2, max_depth=1066, criterion=mae, total=   0.0s\n",
      "[CV] splitter=best, max_leaf_nodes=26, max_features=log2, max_depth=1066, criterion=mae \n",
      "[CV]  splitter=best, max_leaf_nodes=26, max_features=log2, max_depth=1066, criterion=mae, total=   0.0s\n",
      "[CV] splitter=best, max_leaf_nodes=26, max_features=sqrt, max_depth=933, criterion=friedman_mse \n",
      "[CV]  splitter=best, max_leaf_nodes=26, max_features=sqrt, max_depth=933, criterion=friedman_mse, total=   0.0s\n",
      "[CV] splitter=best, max_leaf_nodes=26, max_features=sqrt, max_depth=933, criterion=friedman_mse \n",
      "[CV]  splitter=best, max_leaf_nodes=26, max_features=sqrt, max_depth=933, criterion=friedman_mse, total=   0.0s\n",
      "[CV] splitter=best, max_leaf_nodes=26, max_features=sqrt, max_depth=933, criterion=friedman_mse \n",
      "[CV]  splitter=best, max_leaf_nodes=26, max_features=sqrt, max_depth=933, criterion=friedman_mse, total=   0.0s\n",
      "[CV] splitter=best, max_leaf_nodes=26, max_features=sqrt, max_depth=933, criterion=friedman_mse \n",
      "[CV]  splitter=best, max_leaf_nodes=26, max_features=sqrt, max_depth=933, criterion=friedman_mse, total=   0.0s\n",
      "[CV] splitter=best, max_leaf_nodes=26, max_features=sqrt, max_depth=933, criterion=friedman_mse \n",
      "[CV]  splitter=best, max_leaf_nodes=26, max_features=sqrt, max_depth=933, criterion=friedman_mse, total=   0.0s\n",
      "[CV] splitter=best, max_leaf_nodes=100, max_features=auto, max_depth=933, criterion=mae \n",
      "[CV]  splitter=best, max_leaf_nodes=100, max_features=auto, max_depth=933, criterion=mae, total=   0.0s\n",
      "[CV] splitter=best, max_leaf_nodes=100, max_features=auto, max_depth=933, criterion=mae \n",
      "[CV]  splitter=best, max_leaf_nodes=100, max_features=auto, max_depth=933, criterion=mae, total=   0.0s\n",
      "[CV] splitter=best, max_leaf_nodes=100, max_features=auto, max_depth=933, criterion=mae \n",
      "[CV]  splitter=best, max_leaf_nodes=100, max_features=auto, max_depth=933, criterion=mae, total=   0.0s\n",
      "[CV] splitter=best, max_leaf_nodes=100, max_features=auto, max_depth=933, criterion=mae \n",
      "[CV]  splitter=best, max_leaf_nodes=100, max_features=auto, max_depth=933, criterion=mae, total=   0.0s\n",
      "[CV] splitter=best, max_leaf_nodes=100, max_features=auto, max_depth=933, criterion=mae \n",
      "[CV]  splitter=best, max_leaf_nodes=100, max_features=auto, max_depth=933, criterion=mae, total=   0.0s\n",
      "[CV] splitter=random, max_leaf_nodes=5, max_features=auto, max_depth=268, criterion=mse \n",
      "[CV]  splitter=random, max_leaf_nodes=5, max_features=auto, max_depth=268, criterion=mse, total=   0.0s\n",
      "[CV] splitter=random, max_leaf_nodes=5, max_features=auto, max_depth=268, criterion=mse \n",
      "[CV]  splitter=random, max_leaf_nodes=5, max_features=auto, max_depth=268, criterion=mse, total=   0.0s\n",
      "[CV] splitter=random, max_leaf_nodes=5, max_features=auto, max_depth=268, criterion=mse \n",
      "[CV]  splitter=random, max_leaf_nodes=5, max_features=auto, max_depth=268, criterion=mse, total=   0.0s\n",
      "[CV] splitter=random, max_leaf_nodes=5, max_features=auto, max_depth=268, criterion=mse \n",
      "[CV]  splitter=random, max_leaf_nodes=5, max_features=auto, max_depth=268, criterion=mse, total=   0.0s\n",
      "[CV] splitter=random, max_leaf_nodes=5, max_features=auto, max_depth=268, criterion=mse \n",
      "[CV]  splitter=random, max_leaf_nodes=5, max_features=auto, max_depth=268, criterion=mse, total=   0.0s\n"
     ]
    },
    {
     "name": "stderr",
     "output_type": "stream",
     "text": [
      "[Parallel(n_jobs=1)]: Done  50 out of  50 | elapsed:    0.3s finished\n"
     ]
    },
    {
     "data": {
      "text/plain": [
       "RandomizedSearchCV(cv=5, error_score='raise-deprecating',\n",
       "                   estimator=DecisionTreeRegressor(criterion='mse',\n",
       "                                                   max_depth=None,\n",
       "                                                   max_features=None,\n",
       "                                                   max_leaf_nodes=None,\n",
       "                                                   min_impurity_decrease=0.0,\n",
       "                                                   min_impurity_split=None,\n",
       "                                                   min_samples_leaf=1,\n",
       "                                                   min_samples_split=2,\n",
       "                                                   min_weight_fraction_leaf=0.0,\n",
       "                                                   presort=False,\n",
       "                                                   random_state=None,\n",
       "                                                   splitter='best'),\n",
       "                   iid='warn', n_iter=10, n_job...\n",
       "                   param_distributions={'criterion': ['mse', 'friedman_mse',\n",
       "                                                      'mae'],\n",
       "                                        'max_depth': [2, 135, 268, 401, 534,\n",
       "                                                      667, 800, 933, 1066,\n",
       "                                                      1200],\n",
       "                                        'max_features': ['auto', 'sqrt',\n",
       "                                                         'log2'],\n",
       "                                        'max_leaf_nodes': [5, 15, 26, 36, 47,\n",
       "                                                           57, 68, 78, 89,\n",
       "                                                           100],\n",
       "                                        'splitter': ['best', 'random']},\n",
       "                   pre_dispatch='2*n_jobs', random_state=42, refit=True,\n",
       "                   return_train_score=False, scoring='neg_mean_squared_error',\n",
       "                   verbose=2)"
      ]
     },
     "execution_count": 219,
     "metadata": {},
     "output_type": "execute_result"
    }
   ],
   "source": [
    "dt=DecisionTreeRegressor()\n",
    "max_leaf_nodes=[int(x) for x in np.linspace(5,100,10)]\n",
    "criterion=['mse','friedman_mse','mae']\n",
    "splitter=['best','random']\n",
    "max_depth=[int(x) for x in np.linspace(2,1200,10)]\n",
    "\n",
    "param_grid={\n",
    "    'max_leaf_nodes':max_leaf_nodes,\n",
    "    'criterion':criterion,\n",
    "    'splitter':splitter,\n",
    "     'max_features':['auto','sqrt','log2'],\n",
    "    'max_depth':max_depth\n",
    "    \n",
    "}\n",
    "\n",
    "clf=RandomizedSearchCV(estimator =dt, param_distributions =param_grid,scoring='neg_mean_squared_error', n_iter = 10, cv = 5, verbose=2, random_state=42, n_jobs = 1)\n",
    "clf.fit(X_train,y_train)\n",
    "\n",
    "# dt=DecisionTreeRegressor(max_leaf_nodes=20,criterion='mse')\n",
    "# dt.fit(X_train,y_train)"
   ]
  },
  {
   "cell_type": "code",
   "execution_count": 220,
   "metadata": {},
   "outputs": [
    {
     "data": {
      "text/plain": [
       "{'splitter': 'random',\n",
       " 'max_leaf_nodes': 78,\n",
       " 'max_features': 'auto',\n",
       " 'max_depth': 1066,\n",
       " 'criterion': 'friedman_mse'}"
      ]
     },
     "execution_count": 220,
     "metadata": {},
     "output_type": "execute_result"
    }
   ],
   "source": [
    "clf.best_params_"
   ]
  },
  {
   "cell_type": "code",
   "execution_count": 221,
   "metadata": {},
   "outputs": [
    {
     "data": {
      "text/plain": [
       "-4.543376581247331"
      ]
     },
     "execution_count": 221,
     "metadata": {},
     "output_type": "execute_result"
    }
   ],
   "source": [
    "clf.best_score_"
   ]
  },
  {
   "cell_type": "code",
   "execution_count": 222,
   "metadata": {},
   "outputs": [],
   "source": [
    "### Prediction\n",
    "y_pred=clf.predict(X_test)"
   ]
  },
  {
   "cell_type": "markdown",
   "metadata": {},
   "source": [
    "### Checking for error Distribution"
   ]
  },
  {
   "cell_type": "code",
   "execution_count": 223,
   "metadata": {},
   "outputs": [
    {
     "data": {
      "text/plain": [
       "count    61.000000\n",
       "mean      0.292436\n",
       "std       1.052079\n",
       "min      -1.275000\n",
       "25%      -0.093750\n",
       "50%       0.094545\n",
       "75%       0.350000\n",
       "max       4.650000\n",
       "Name: Selling_Price, dtype: float64"
      ]
     },
     "execution_count": 223,
     "metadata": {},
     "output_type": "execute_result"
    },
    {
     "data": {
      "image/png": "[encoded data removed]",
      "text/plain": [
       "<Figure size 432x288 with 1 Axes>"
      ]
     },
     "metadata": {
      "needs_background": "light"
     },
     "output_type": "display_data"
    }
   ],
   "source": [
    "sns.distplot(y_test-y_pred)\n",
    "sns.boxplot(y_test-y_pred)\n",
    "r=y_test-y_pred\n",
    "r.describe()"
   ]
  },
  {
   "cell_type": "markdown",
   "metadata": {},
   "source": [
    "### Accuracy Check and error measurement"
   ]
  },
  {
   "cell_type": "code",
   "execution_count": 224,
   "metadata": {},
   "outputs": [
    {
     "name": "stdout",
     "output_type": "stream",
     "text": [
      "Determination score(r2) 0.9522501704634795\n",
      "mean_absolute_error(mae) 0.5666552231921084\n",
      "mean_squared_error(mse) 1.1742430526344338\n",
      "root mean_squared_error(rmse) 1.0836249593998994\n",
      "explained variance 0.9557277349760732\n",
      "max error 4.65\n"
     ]
    }
   ],
   "source": [
    "from sklearn.metrics import r2_score,mean_absolute_error,mean_squared_error,explained_variance_score,max_error\n",
    "r2=r2_score(y_test,y_pred)\n",
    "mae=mean_absolute_error(y_test,y_pred)\n",
    "mse=mean_squared_error(y_test,y_pred)\n",
    "explained_variance=explained_variance_score(y_test,y_pred)\n",
    "mr=max_error(y_test,y_pred)\n",
    "print('Determination score(r2)',r2)\n",
    "print('mean_absolute_error(mae)',mae)\n",
    "print('mean_squared_error(mse)',mse)\n",
    "print('root mean_squared_error(rmse)',np.sqrt(mse))\n",
    "print('explained variance',explained_variance)\n",
    "print('max error',mr)"
   ]
  },
  {
   "cell_type": "code",
   "execution_count": 225,
   "metadata": {},
   "outputs": [
    {
     "data": {
      "text/plain": [
       "<matplotlib.collections.PathCollection at 0x25f74ba3148>"
      ]
     },
     "execution_count": 225,
     "metadata": {},
     "output_type": "execute_result"
    },
    {
     "data": {
      "image/png": "[encoded data removed]",
      "text/plain": [
       "<Figure size 432x288 with 1 Axes>"
      ]
     },
     "metadata": {
      "needs_background": "light"
     },
     "output_type": "display_data"
    }
   ],
   "source": [
    "# sns.lineplot(y_test,y_pred)\n",
    "plt.scatter(y_test,y_pred)"
   ]
  },
  {
   "cell_type": "code",
   "execution_count": 226,
   "metadata": {},
   "outputs": [
    {
     "data": {
      "text/html": [
       "<div>\n",
       "<style scoped>\n",
       "    .dataframe tbody tr th:only-of-type {\n",
       "        vertical-align: middle;\n",
       "    }\n",
       "\n",
       "    .dataframe tbody tr th {\n",
       "        vertical-align: top;\n",
       "    }\n",
       "\n",
       "    .dataframe thead th {\n",
       "        text-align: right;\n",
       "    }\n",
       "</style>\n",
       "<table border=\"1\" class=\"dataframe\">\n",
       "  <thead>\n",
       "    <tr style=\"text-align: right;\">\n",
       "      <th></th>\n",
       "      <th>Selling_Price</th>\n",
       "      <th>Present_Price</th>\n",
       "      <th>Kms_Driven</th>\n",
       "      <th>Owner</th>\n",
       "      <th>Old</th>\n",
       "      <th>Fuel_Type_Diesel</th>\n",
       "      <th>Fuel_Type_Petrol</th>\n",
       "      <th>Seller_Type_Individual</th>\n",
       "      <th>Transmission_Manual</th>\n",
       "    </tr>\n",
       "  </thead>\n",
       "  <tbody>\n",
       "    <tr>\n",
       "      <th>0</th>\n",
       "      <td>3.35</td>\n",
       "      <td>5.59</td>\n",
       "      <td>27000</td>\n",
       "      <td>0</td>\n",
       "      <td>6</td>\n",
       "      <td>0</td>\n",
       "      <td>1</td>\n",
       "      <td>0</td>\n",
       "      <td>1</td>\n",
       "    </tr>\n",
       "    <tr>\n",
       "      <th>1</th>\n",
       "      <td>4.75</td>\n",
       "      <td>9.54</td>\n",
       "      <td>43000</td>\n",
       "      <td>0</td>\n",
       "      <td>7</td>\n",
       "      <td>1</td>\n",
       "      <td>0</td>\n",
       "      <td>0</td>\n",
       "      <td>1</td>\n",
       "    </tr>\n",
       "  </tbody>\n",
       "</table>\n",
       "</div>"
      ],
      "text/plain": [
       "   Selling_Price  Present_Price  Kms_Driven  Owner  Old  Fuel_Type_Diesel  \\\n",
       "0           3.35           5.59       27000      0    6                 0   \n",
       "1           4.75           9.54       43000      0    7                 1   \n",
       "\n",
       "   Fuel_Type_Petrol  Seller_Type_Individual  Transmission_Manual  \n",
       "0                 1                       0                    1  \n",
       "1                 0                       0                    1  "
      ]
     },
     "execution_count": 226,
     "metadata": {},
     "output_type": "execute_result"
    }
   ],
   "source": [
    "df.head(2)"
   ]
  },
  {
   "cell_type": "markdown",
   "metadata": {},
   "source": [
    "## Sample Prediction"
   ]
  },
  {
   "cell_type": "code",
   "execution_count": 227,
   "metadata": {},
   "outputs": [
    {
     "data": {
      "text/plain": [
       "array([3.35])"
      ]
     },
     "execution_count": 227,
     "metadata": {},
     "output_type": "execute_result"
    }
   ],
   "source": [
    "pred=[5.59,27000,0,6,0,0,0,1]\n",
    "clf.predict([pred])"
   ]
  }
 ],
 "metadata": {
  "kernelspec": {
   "display_name": "Python 3",
   "language": "python",
   "name": "python3"
  },
  "language_info": {
   "codemirror_mode": {
    "name": "ipython",
    "version": 3
   },
   "file_extension": ".py",
   "mimetype": "text/x-python",
   "name": "python",
   "nbconvert_exporter": "python",
   "pygments_lexer": "ipython3",
   "version": "3.7.4"
  }
 },
 "nbformat": 4,
 "nbformat_minor": 2
}
